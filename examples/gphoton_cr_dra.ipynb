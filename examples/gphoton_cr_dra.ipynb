{
 "cells": [
  {
   "cell_type": "markdown",
   "metadata": {
    "deletable": true,
    "editable": true
   },
   "source": [
    "First, import the gPhoton modules we will be using.  We'll also import the datetime module so we can keep track of the (approximate) start and stop times for our commands."
   ]
  },
  {
   "cell_type": "code",
   "execution_count": 1,
   "metadata": {
    "collapsed": false,
    "deletable": true,
    "editable": true,
    "scrolled": false
   },
   "outputs": [],
   "source": [
    "from gPhoton import gFind\n",
    "from gPhoton import gAperture\n",
    "from gPhoton import gMap\n",
    "import datetime"
   ]
  },
  {
   "cell_type": "markdown",
   "metadata": {
    "deletable": true,
    "editable": true
   },
   "source": [
    "We will now define some parameters for CR Draconis, including the coordinates of the target and the aperture sizes (always in degrees!)  The \"step_size\" is the bin size we'd like to make for our light curves, in seconds.  Similarly, \"img_step_size\" is the step size we'd like to use for our image cube.  The \"img_size\" is the size on the sky, in degrees, for the coadd image and/or image cube we will be making."
   ]
  },
  {
   "cell_type": "code",
   "execution_count": 2,
   "metadata": {
    "collapsed": true,
    "deletable": true,
    "editable": true,
    "scrolled": false
   },
   "outputs": [],
   "source": [
    "target = 'cr_dra'\n",
    "ra = 244.27246917\n",
    "dec = 55.26919386\n",
    "step_size = 10.\n",
    "img_step_size = 30.\n",
    "img_size = [0.1, 0.1]\n",
    "phot_rad = 0.0045\n",
    "ap_in = 0.0050\n",
    "ap_out = 0.0060"
   ]
  },
  {
   "cell_type": "markdown",
   "metadata": {
    "deletable": true,
    "editable": true
   },
   "source": [
    "First we will run gFind to determine how much data exists in the database.  We are going to focus on the NUV band for now, since in general, targets will have as much or more NUV data than FUV data.  You can, however, specify 'band=\"both\"' to query available data in both bands with one command.  We use the 'exponly=True' option to minimize the amount of information printed to the screen after gFind finishes.  **NOTE: This can take a few minutes to run, so be patient!**"
   ]
  },
  {
   "cell_type": "code",
   "execution_count": 3,
   "metadata": {
    "collapsed": false,
    "deletable": true,
    "editable": true,
    "scrolled": true
   },
   "outputs": [
    {
     "name": "stdout",
     "output_type": "stream",
     "text": [
      "Starting gFind for CR Draconis...\n",
      "2017-02-28 14:32:45.460537\n",
      "NUV: 49918.0s (raw) in 44 exposures.\n",
      "2017-02-28 14:34:37.922249\n",
      "Completed gFind for CR Draconis.\n"
     ]
    }
   ],
   "source": [
    "print(\"Starting gFind for CR Draconis...\")\n",
    "print(datetime.datetime.now())\n",
    "exp_data = gFind(band=\"NUV\", skypos=[ra, dec], exponly=True)\n",
    "print(datetime.datetime.now())\n",
    "print(\"Completed gFind for CR Draconis.\")"
   ]
  },
  {
   "cell_type": "markdown",
   "metadata": {
    "deletable": true,
    "editable": true
   },
   "source": [
    "The return structure is a dictionary that contains one or two dictionaries for each band.  In our case, there is one dict for the NUV band.  The dict for each band contains the closest MCAT source (from the GALEX merged catalog of sources), a list of start times, a list of stop times, and a total exposure time.  The start and stop times are in \"GALEX time\", which is Unix time - 315964800 seconds.  The start and stop times correspond to individual \"visits\" to the target throughtout the mission.  Since we just want to know how much total time is available, let's print out the total exposure time."
   ]
  },
  {
   "cell_type": "code",
   "execution_count": 4,
   "metadata": {
    "collapsed": false,
    "deletable": true,
    "editable": true
   },
   "outputs": [
    {
     "name": "stdout",
     "output_type": "stream",
     "text": [
      "49918.0\n"
     ]
    }
   ],
   "source": [
    "print(exp_data['NUV']['expt'])"
   ]
  },
  {
   "cell_type": "markdown",
   "metadata": {
    "deletable": true,
    "editable": true
   },
   "source": [
    "We can loop over the start and stop times and see where the largest continuous data sets are."
   ]
  },
  {
   "cell_type": "code",
   "execution_count": 5,
   "metadata": {
    "collapsed": false,
    "deletable": true,
    "editable": true
   },
   "outputs": [
    {
     "name": "stdout",
     "output_type": "stream",
     "text": [
      "(768413051.995, 768413156.995, 105.0)\n",
      "(773815967.995, 773816472.995, 505.0)\n",
      "(799083974.995, 799085580.995, 1606.0)\n",
      "(799214245.995, 799214801.995, 556.0)\n",
      "(799279196.995, 799280851.995, 1655.0)\n",
      "(799415257.995, 799415364.995, 107.0)\n",
      "(802302812.995, 802303989.995, 1177.0)\n",
      "(802439100.995, 802440088.995, 988.0)\n",
      "(806326407.995, 806327771.995, 1364.0)\n",
      "(806427020.995, 806428340.995, 1320.0)\n",
      "(806533534.995, 806534830.995, 1296.0)\n",
      "(806669721.995, 806670916.995, 1195.0)\n",
      "(806793869.995, 806795186.995, 1317.0)\n",
      "(806799791.995, 806801104.995, 1313.0)\n",
      "(837271255.995, 837272711.995, 1456.0)\n",
      "(837390036.995, 837391026.995, 990.0)\n",
      "(837407997.995, 837408083.995, 86.0)\n",
      "(837443507.995, 837443594.995, 87.0)\n",
      "(837496199.995, 837497522.995, 1323.0)\n",
      "(925883687.995, 925884955.995, 1268.0)\n",
      "(926090824.995, 926092123.995, 1299.0)\n",
      "(926262407.995, 926263780.995, 1373.0)\n",
      "(926428044.995, 926429498.995, 1454.0)\n",
      "(926599566.995, 926601106.995, 1540.0)\n",
      "(929598469.995, 929599902.995, 1433.0)\n",
      "(929775990.995, 929777331.995, 1341.0)\n",
      "(929935826.995, 929937043.995, 1217.0)\n",
      "(930113448.995, 930114550.995, 1102.0)\n",
      "(930296973.995, 930298044.995, 1071.0)\n",
      "(930474516.995, 930475664.995, 1148.0)\n",
      "(956922964.995, 956924334.995, 1370.0)\n",
      "(957307464.995, 957308995.995, 1531.0)\n",
      "(957478975.995, 957480570.995, 1595.0)\n",
      "(960844771.995, 960845907.995, 1136.0)\n",
      "(961016463.995, 961017527.995, 1064.0)\n",
      "(961164439.995, 961165521.995, 1082.0)\n",
      "(987427705.995, 987429106.995, 1401.0)\n",
      "(987599302.995, 987600706.995, 1404.0)\n",
      "(987770869.995, 987772314.995, 1445.0)\n",
      "(988870868.995, 988871748.995, 880.0)\n",
      "(989048282.995, 989049511.995, 1229.0)\n",
      "(989213880.995, 989214618.995, 738.0)\n",
      "(991378738.995, 991379988.995, 1250.0)\n",
      "(991733808.995, 991734909.995, 1101.0)\n"
     ]
    }
   ],
   "source": [
    "for tstart, tstop in zip(exp_data['NUV']['t0'], exp_data['NUV']['t1']):\n",
    "        print(tstart, tstop, tstop-tstart)"
   ]
  },
  {
   "cell_type": "markdown",
   "metadata": {
    "deletable": true,
    "editable": true
   },
   "source": [
    "There's a lot of data here!  Let's make a deep coadd image of this target, as well as an image cube using 30-second slices.  In the interest of time, we'll just choose one visit from above.  We set \"verbose=3\" so that we can monitor to make sure gMap is running.  When finished, we will have two FITS files created on our machine."
   ]
  },
  {
   "cell_type": "code",
   "execution_count": 6,
   "metadata": {
    "collapsed": false,
    "deletable": true,
    "editable": true
   },
   "outputs": [
    {
     "name": "stdout",
     "output_type": "stream",
     "text": [
      "Starting gMap for CR Draconis...\n",
      "2017-02-28 14:34:48.854860\n",
      "[[  7.99279196e+08   7.99280852e+08]]\n",
      "Writing image to cr_dra_cube.fits                           \n",
      "[[  7.99279196e+08   7.99280852e+08]]\n",
      "Coadding across [[  7.99279196e+08   7.99280852e+08]]\n",
      "Writing image to cr_dra_coadd.fits                          \n",
      "2017-02-28 14:35:17.500354\n",
      "Completed gMap for CR Draconis.\n"
     ]
    }
   ],
   "source": [
    "print(\"Starting gMap for CR Draconis...\")\n",
    "print(datetime.datetime.now())\n",
    "gMap(band=\"nuv\", skypos=[ra, dec], stepsz=img_step_size, skyrange=img_size,\n",
    "         cntfile=target+'_cube.fits', cntcoaddfile=target+'_coadd.fits', verbose=3,\n",
    "         trange=[799279196., 799280852.], overwrite=True)\n",
    "print(datetime.datetime.now())\n",
    "print(\"Completed gMap for CR Draconis.\")"
   ]
  },
  {
   "cell_type": "markdown",
   "metadata": {
    "deletable": true,
    "editable": true
   },
   "source": [
    "You can open the images using your favorite FITS viewer, for example, ds9.  If using ds9, I recommend changing the scaling to \"zscale\", the scale to \"log\", and the scale parameters min and max to be 0. and 100.  If you look at the image cube and pan through the frames, you'll notice a rather large flare occurs roughly halfway through the frames."
   ]
  },
  {
   "cell_type": "markdown",
   "metadata": {
    "deletable": true,
    "editable": true
   },
   "source": [
    "Next we'd like to create a light curve CSV file.  Once again, in the interest of time, let's just do one visit.  Our photometric aperture is \"phot_rad\", while the inner and outer annulus are \"ap_in\" and \"ap_out\", **always in degrees**.  **NOTE: This can take a few minutes to complete.**"
   ]
  },
  {
   "cell_type": "code",
   "execution_count": 7,
   "metadata": {
    "collapsed": false,
    "deletable": true,
    "editable": true,
    "scrolled": true
   },
   "outputs": [
    {
     "name": "stdout",
     "output_type": "stream",
     "text": [
      "Starting gAperture for CR Draconis...\n",
      "2017-02-28 14:35:23.292543\n",
      "Using v1.28.2 of gAperture.\n",
      "Generating a light curve with the following paramters:\n",
      " band:    NUV\n",
      " skypos:  [244.27246917, 55.26919386]\n",
      " tranges: [799279196.0, 799280852.0]\n",
      " radius:  0.0045\n",
      " annulus: [0.005, 0.006]\n",
      " stepsz:  10.0\n",
      " csvfile: cr_dra_lc.csv\n",
      " verbose: 3\n",
      "2017-02-28 14:38:47.711600.                                 .26919386]                                                            \n",
      "Completed gAperture for CR Draconis.\n"
     ]
    }
   ],
   "source": [
    "print(\"Starting gAperture for CR Draconis...\")\n",
    "print(datetime.datetime.now())\n",
    "photon_events = gAperture(band='NUV', skypos=[ra, dec], stepsz=step_size, radius=phot_rad,\n",
    "                             annulus=[ap_in, ap_out], verbose=3, csvfile=target+\"_lc.csv\",\n",
    "                             trange=[799279196., 799280852.], overwrite=True)\n",
    "print(datetime.datetime.now())\n",
    "print(\"Completed gAperture for CR Draconis.\")"
   ]
  },
  {
   "cell_type": "markdown",
   "metadata": {
    "deletable": true,
    "editable": true
   },
   "source": [
    "Now we can make a quick plot of the light curve.  We'll import matplotlib, as well as a utility function in gPhoton to quickly read in light curve files from gPhoton."
   ]
  },
  {
   "cell_type": "code",
   "execution_count": 9,
   "metadata": {
    "collapsed": false,
    "deletable": true,
    "editable": true
   },
   "outputs": [],
   "source": [
    "from gPhoton.gphoton_utils import read_lc\n",
    "import matplotlib.pyplot as pyp"
   ]
  },
  {
   "cell_type": "code",
   "execution_count": 10,
   "metadata": {
    "collapsed": false,
    "deletable": true,
    "editable": true
   },
   "outputs": [
    {
     "data": {
      "image/png": "[encoded data removed]",
      "text/plain": [
       "<matplotlib.figure.Figure at 0x10eb73e50>"
      ]
     },
     "metadata": {},
     "output_type": "display_data"
    }
   ],
   "source": [
    "data = read_lc(target+\"_lc.csv\")\n",
    "pyp.plot(data['t_mean'], data['flux_bgsub'], '-ko')\n",
    "pyp.show()"
   ]
  },
  {
   "cell_type": "markdown",
   "metadata": {
    "deletable": true,
    "editable": true
   },
   "source": [
    "This is the same flare as reported in Welsh et al. (2006): http://adsabs.harvard.edu/abs/2006A%26A...458..921W\n",
    "If you are willing to wait longer and create a light curve across **all** the available data, you'll find several more flares of different durations and sizes.  You can see the one's we've found in the gPhoton intro. paper, Fig. 13: http://adsabs.harvard.edu/abs/2016ApJ...833..292M"
   ]
  }
 ],
 "metadata": {
  "kernelspec": {
   "display_name": "Python 2",
   "language": "python",
   "name": "python2"
  },
  "language_info": {
   "codemirror_mode": {
    "name": "ipython",
    "version": 2
   },
   "file_extension": ".py",
   "mimetype": "text/x-python",
   "name": "python",
   "nbconvert_exporter": "python",
   "pygments_lexer": "ipython2",
   "version": "2.7.13"
  }
 },
 "nbformat": 4,
 "nbformat_minor": 2
}
